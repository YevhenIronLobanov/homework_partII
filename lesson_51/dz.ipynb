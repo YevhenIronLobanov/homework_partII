{
 "cells": [
  {
   "cell_type": "markdown",
   "id": "69a33086-b6f5-4db5-b71f-67918b6b0a8c",
   "metadata": {},
   "source": [
    "### *_Умова задачі_*"
   ]
  },
  {
   "cell_type": "markdown",
   "id": "5548f166-a90d-4ff2-afdc-dfec9dd64b1f",
   "metadata": {},
   "source": [
    "До пункту видачі надійшли вироби з такими харктеристиками:\n",
    "Всього виробів - 13000 одиниць, з них виготовлено на першому заводі - 8000 од. вагою 13 кг., \n",
    "зі стандартним відхиленням по вазі 0,5 кг. На другому - 5000 од. вагою 12 кг., \n",
    "зі стандартним відхиленням по вазі 0,7 кг. Доля якісних виробів, вироблених на першому заводі, \n",
    "становить 0,85. Доля якісних виробів, вироблених на другому заводі 0,8.\n",
    "Напишіть код, з використанням ЕМ-алгоритму, для визначення ймовірності, на якому заводі був вироблений виріб. "
   ]
  },
  {
   "cell_type": "code",
   "execution_count": null,
   "id": "c88da91a-d86e-464c-887a-383e1d61ee5f",
   "metadata": {},
   "outputs": [],
   "source": [
    "import numpy as np\n",
    "import matplotlib.pyplot as plt\n",
    "from sklearn.metrics import accuracy_score\n",
    "from sklearn.mixture import GaussianMixture"
   ]
  },
  {
   "cell_type": "code",
   "execution_count": 53,
   "id": "e1a37183-3322-4dde-a9cb-5ec64b477288",
   "metadata": {},
   "outputs": [],
   "source": [
    "# Вихідні дані\n",
    "N_1 = 8000\n",
    "N_2 = 5000\n",
    "N = N_1 + N_2\n",
    "\n",
    "mu_1 = 13.0\n",
    "sigma_1 = 0.5\n",
    "\n",
    "mu_2 = 12.0\n",
    "sigma_2 = 0.7\n",
    "\n"
   ]
  },
  {
   "cell_type": "code",
   "execution_count": 54,
   "id": "2c34e95c-6285-477a-8493-695b00af8616",
   "metadata": {},
   "outputs": [],
   "source": [
    "# Генеруємо дані\n",
    "X = np.zeros((N))\n",
    "np.random.seed(seed=42)\n",
    "X[:N_1] = np.random.normal(loc=mu_1, scale=sigma_1, size=N_1)\n",
    "X[N_1:N] = np.random.normal(loc=mu_2, scale=sigma_2, size=N_2)"
   ]
  },
  {
   "cell_type": "code",
   "execution_count": 56,
   "id": "fc346b64-30eb-477e-abe7-a888175a3030",
   "metadata": {},
   "outputs": [],
   "source": [
    "# Створюємо мітки класів\n",
    "y = np.zeros((N))\n",
    "y[:N_1] = 1\n",
    "y[N_1:N] = 2"
   ]
  },
  {
   "cell_type": "code",
   "execution_count": 58,
   "id": "6f9257d4-40da-4f23-8919-cf938324a1b0",
   "metadata": {},
   "outputs": [
    {
     "data": {
      "image/png": "[encoded data removed]",
      "text/plain": [
       "<Figure size 640x480 with 1 Axes>"
      ]
     },
     "metadata": {},
     "output_type": "display_data"
    }
   ],
   "source": [
    "# Побудуємо гістограму даних\n",
    "plt.hist(X[y == 1], bins='auto', color='blue', alpha=0.35, label='Завод_1')\n",
    "plt.hist(X[y == 2], bins='auto', color='red', alpha=0.35, label='Завод_2')\n",
    "plt.xlabel('Вага')\n",
    "plt.ylabel('Частота')\n",
    "plt.legend()\n",
    "plt.show()"
   ]
  },
  {
   "cell_type": "markdown",
   "id": "cd8651e2-1295-401a-9dd7-2591f95faeb8",
   "metadata": {},
   "source": [
    "### *_Використання ЕМ-алгоритму_*"
   ]
  },
  {
   "cell_type": "code",
   "execution_count": 67,
   "id": "4f2396e8-db95-48c0-b4e9-3adc628d6195",
   "metadata": {},
   "outputs": [
    {
     "data": {
      "text/html": [
       "<style>#sk-container-id-3 {color: black;}#sk-container-id-3 pre{padding: 0;}#sk-container-id-3 div.sk-toggleable {background-color: white;}#sk-container-id-3 label.sk-toggleable__label {cursor: pointer;display: block;width: 100%;margin-bottom: 0;padding: 0.3em;box-sizing: border-box;text-align: center;}#sk-container-id-3 label.sk-toggleable__label-arrow:before {content: \"▸\";float: left;margin-right: 0.25em;color: #696969;}#sk-container-id-3 label.sk-toggleable__label-arrow:hover:before {color: black;}#sk-container-id-3 div.sk-estimator:hover label.sk-toggleable__label-arrow:before {color: black;}#sk-container-id-3 div.sk-toggleable__content {max-height: 0;max-width: 0;overflow: hidden;text-align: left;background-color: #f0f8ff;}#sk-container-id-3 div.sk-toggleable__content pre {margin: 0.2em;color: black;border-radius: 0.25em;background-color: #f0f8ff;}#sk-container-id-3 input.sk-toggleable__control:checked~div.sk-toggleable__content {max-height: 200px;max-width: 100%;overflow: auto;}#sk-container-id-3 input.sk-toggleable__control:checked~label.sk-toggleable__label-arrow:before {content: \"▾\";}#sk-container-id-3 div.sk-estimator input.sk-toggleable__control:checked~label.sk-toggleable__label {background-color: #d4ebff;}#sk-container-id-3 div.sk-label input.sk-toggleable__control:checked~label.sk-toggleable__label {background-color: #d4ebff;}#sk-container-id-3 input.sk-hidden--visually {border: 0;clip: rect(1px 1px 1px 1px);clip: rect(1px, 1px, 1px, 1px);height: 1px;margin: -1px;overflow: hidden;padding: 0;position: absolute;width: 1px;}#sk-container-id-3 div.sk-estimator {font-family: monospace;background-color: #f0f8ff;border: 1px dotted black;border-radius: 0.25em;box-sizing: border-box;margin-bottom: 0.5em;}#sk-container-id-3 div.sk-estimator:hover {background-color: #d4ebff;}#sk-container-id-3 div.sk-parallel-item::after {content: \"\";width: 100%;border-bottom: 1px solid gray;flex-grow: 1;}#sk-container-id-3 div.sk-label:hover label.sk-toggleable__label {background-color: #d4ebff;}#sk-container-id-3 div.sk-serial::before {content: \"\";position: absolute;border-left: 1px solid gray;box-sizing: border-box;top: 0;bottom: 0;left: 50%;z-index: 0;}#sk-container-id-3 div.sk-serial {display: flex;flex-direction: column;align-items: center;background-color: white;padding-right: 0.2em;padding-left: 0.2em;position: relative;}#sk-container-id-3 div.sk-item {position: relative;z-index: 1;}#sk-container-id-3 div.sk-parallel {display: flex;align-items: stretch;justify-content: center;background-color: white;position: relative;}#sk-container-id-3 div.sk-item::before, #sk-container-id-3 div.sk-parallel-item::before {content: \"\";position: absolute;border-left: 1px solid gray;box-sizing: border-box;top: 0;bottom: 0;left: 50%;z-index: -1;}#sk-container-id-3 div.sk-parallel-item {display: flex;flex-direction: column;z-index: 1;position: relative;background-color: white;}#sk-container-id-3 div.sk-parallel-item:first-child::after {align-self: flex-end;width: 50%;}#sk-container-id-3 div.sk-parallel-item:last-child::after {align-self: flex-start;width: 50%;}#sk-container-id-3 div.sk-parallel-item:only-child::after {width: 0;}#sk-container-id-3 div.sk-dashed-wrapped {border: 1px dashed gray;margin: 0 0.4em 0.5em 0.4em;box-sizing: border-box;padding-bottom: 0.4em;background-color: white;}#sk-container-id-3 div.sk-label label {font-family: monospace;font-weight: bold;display: inline-block;line-height: 1.2em;}#sk-container-id-3 div.sk-label-container {text-align: center;}#sk-container-id-3 div.sk-container {/* jupyter's `normalize.less` sets `[hidden] { display: none; }` but bootstrap.min.css set `[hidden] { display: none !important; }` so we also need the `!important` here to be able to override the default hidden behavior on the sphinx rendered scikit-learn.org. See: https://github.com/scikit-learn/scikit-learn/issues/21755 */display: inline-block !important;position: relative;}#sk-container-id-3 div.sk-text-repr-fallback {display: none;}</style><div id=\"sk-container-id-3\" class=\"sk-top-container\"><div class=\"sk-text-repr-fallback\"><pre>GaussianMixture(n_components=2, random_state=42)</pre><b>In a Jupyter environment, please rerun this cell to show the HTML representation or trust the notebook. <br />On GitHub, the HTML representation is unable to render, please try loading this page with nbviewer.org.</b></div><div class=\"sk-container\" hidden><div class=\"sk-item\"><div class=\"sk-estimator sk-toggleable\"><input class=\"sk-toggleable__control sk-hidden--visually\" id=\"sk-estimator-id-3\" type=\"checkbox\" checked><label for=\"sk-estimator-id-3\" class=\"sk-toggleable__label sk-toggleable__label-arrow\">GaussianMixture</label><div class=\"sk-toggleable__content\"><pre>GaussianMixture(n_components=2, random_state=42)</pre></div></div></div></div></div>"
      ],
      "text/plain": [
       "GaussianMixture(n_components=2, random_state=42)"
      ]
     },
     "execution_count": 67,
     "metadata": {},
     "output_type": "execute_result"
    }
   ],
   "source": [
    "# Створення моделі суміші Гауса\n",
    "gmm = GaussianMixture(n_components=2, random_state=42)\n",
    "gmm.fit(X.reshape(-1, 1))"
   ]
  },
  {
   "cell_type": "code",
   "execution_count": 68,
   "id": "55764fb0-0621-4e1f-9b73-95103627b435",
   "metadata": {},
   "outputs": [],
   "source": [
    "# Передбачення класів та розрахунок точності"
   ]
  },
  {
   "cell_type": "code",
   "execution_count": 69,
   "id": "f63c4006-4aac-4a36-b738-d078d7a0c82a",
   "metadata": {},
   "outputs": [
    {
     "name": "stdout",
     "output_type": "stream",
     "text": [
      "Доля вірно класифікованих обьобъектов: 0.824\n"
     ]
    }
   ],
   "source": [
    "pred_X = gmm.predict(X.reshape(-1, 1)) + 1\n",
    "accuracy = accuracy_score(y, pred_X)\n",
    "print('Доля вірно класифікованих обьобъектов:', round(accuracy, 3))"
   ]
  },
  {
   "cell_type": "code",
   "execution_count": 70,
   "id": "cdd42e2a-9a0c-48d3-abd3-5f34ee06af3b",
   "metadata": {},
   "outputs": [],
   "source": [
    "# Розраховуюємо ймовірності належності об'єктів до кожного заводу\n",
    "proba_X = gmm.predict_proba(X.reshape(-1, 1))\n",
    "proba_factory_1 = proba_X[:, 0]\n",
    "proba_factory_2 = proba_X[:, 1]"
   ]
  },
  {
   "cell_type": "code",
   "execution_count": 71,
   "id": "fcc645fe-4cc0-4197-862c-44ab4ec51470",
   "metadata": {},
   "outputs": [
    {
     "name": "stdout",
     "output_type": "stream",
     "text": [
      "Средня ймовірність, що виріб  вироблено на заводі 1: 0.836\n",
      "Средня ймовірність, що виріб  вироблено на заводі 2: 0.65\n"
     ]
    }
   ],
   "source": [
    "# Розраховуємо середні ймовірності для кожного завода\n",
    "mean_proba_1 = np.mean(proba_factory_1[y == 1])\n",
    "mean_proba_2 = np.mean(proba_factory_2[y == 2])\n",
    "print('Средня ймовірність, що виріб  вироблено на заводі 1:', round(mean_proba_1, 3))\n",
    "print('Средня ймовірність, що виріб  вироблено на заводі 2:', round(mean_proba_2, 3))"
   ]
  },
  {
   "cell_type": "markdown",
   "id": "ab3d5aca-45b9-4f22-9c26-ee0d48333080",
   "metadata": {},
   "source": [
    "### Висновок"
   ]
  },
  {
   "cell_type": "markdown",
   "id": "10816d8f-efca-4a0d-8305-26f7af5a835f",
   "metadata": {},
   "source": [
    "*_Як засвідчують отримані показники класифікація не завжди є правильною, і доля правильно класифікованих об'єктів становить 82.4%. \n",
    "    При цьому якщо вибрати випадковий виріб і провести його класифікацію, то є висока ймовірність (83.6%) того, що він був вироблений на першому заводі, і 65% ймовірність, що він був вироблений на другому заводі._*"
   ]
  },
  {
   "cell_type": "code",
   "execution_count": null,
   "id": "87b6c50c-c822-4d82-b208-0c05a89f4c79",
   "metadata": {},
   "outputs": [],
   "source": []
  }
 ],
 "metadata": {
  "kernelspec": {
   "display_name": "Python 3 (ipykernel)",
   "language": "python",
   "name": "python3"
  },
  "language_info": {
   "codemirror_mode": {
    "name": "ipython",
    "version": 3
   },
   "file_extension": ".py",
   "mimetype": "text/x-python",
   "name": "python",
   "nbconvert_exporter": "python",
   "pygments_lexer": "ipython3",
   "version": "3.10.11"
  }
 },
 "nbformat": 4,
 "nbformat_minor": 5
}
